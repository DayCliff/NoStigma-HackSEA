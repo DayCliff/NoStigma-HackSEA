{
 "cells": [
  {
   "cell_type": "markdown",
   "id": "c8c13896",
   "metadata": {},
   "source": [
    "# Data Generator\n",
    "\n",
    "Randomly generate questionaire results for the dataset\n",
    "\n",
    "Result answers: True/False/I'm not sure\n",
    "\n",
    "target values: Depressed, Anxious, Suicidal\n",
    "\n",
    "Dictionary of answers\n",
    "dictionary of target values\n"
   ]
  },
  {
   "cell_type": "code",
   "execution_count": 10,
   "id": "0b228e65",
   "metadata": {},
   "outputs": [],
   "source": [
    "#imports\n",
    "import random\n",
    "import csv\n",
    "\n",
    "answersDict = {}\n",
    "targetValueDict = {}\n",
    "row = []"
   ]
  },
  {
   "cell_type": "code",
   "execution_count": 15,
   "id": "baaa1e6d",
   "metadata": {},
   "outputs": [],
   "source": [
    "# generate random integer based on sent values\n",
    "# a and b are range where a <= r <= b\n",
    "# c is the value modded by\n",
    "# returns random integer\n",
    "def randomAnswer(a,b,c) -> int:\n",
    "    r = random.randrange(a,b)\n",
    "    return r % c\n"
   ]
  },
  {
   "cell_type": "code",
   "execution_count": 16,
   "id": "a4556cd8",
   "metadata": {},
   "outputs": [],
   "source": [
    "# add values to dictionaries \n",
    "answersDict[0] = \"true\"\n",
    "answersDict[1] = \"false\"\n",
    "answersDict[2] = \"i'm not sure\"\n",
    "\n",
    "targetValueDict[0] = \"true\"\n",
    "targetValueDict[1] = \"false\""
   ]
  },
  {
   "cell_type": "code",
   "execution_count": 26,
   "id": "35d397c0",
   "metadata": {},
   "outputs": [
    {
     "name": "stdout",
     "output_type": "stream",
     "text": [
      "[[\"i'm not sure\", 'true', \"i'm not sure\", \"i'm not sure\", \"i'm not sure\", 'true', 'false', \"i'm not sure\", 'true', \"i'm not sure\", 'false', 'true', 'true'], ['true', \"i'm not sure\", 'true', 'true', 'false', 'true', 'true', \"i'm not sure\", 'false', \"i'm not sure\", 'true', \"i'm not sure\", 'true'], ['false', 'true', \"i'm not sure\", \"i'm not sure\", \"i'm not sure\", 'true', 'true', \"i'm not sure\", 'true', 'false', 'false', \"i'm not sure\", 'true'], ['true', 'true', 'true', 'false', 'true', 'false', 'true', 'true', 'false', 'false', \"i'm not sure\", 'true', 'true'], ['false', \"i'm not sure\", 'false', 'false', 'true', 'false', 'false', 'false', 'false', 'true', 'true', 'false', 'true']]\n"
     ]
    }
   ],
   "source": [
    "# writes the rows to the CSV\n",
    "# fields to enter into csv\n",
    "fields = ['Feeling/seeming tense/nervous/unable to relax',\n",
    "'Worrying/seems to worry about things that might happen in the future',\n",
    "'Having a sense of dread, or fearing the worst',\n",
    "'Losing interest in daily activities',\n",
    "'Trouble concentrating on everyday things such as watching television',\n",
    "'Neglected appearance',\n",
    "'Have trouble concentrating in class',\n",
    "'Withdraw from friends or activities',\n",
    "'Talk about suicide or death',\n",
    "'Hinting that they might not be around anymore',\n",
    "'Talking about being a burden to others',\n",
    "'Acting anxious or agitated; behaving recklessly'\n",
    "         ]\n",
    "\n",
    "rows = []\n",
    "\n",
    "# add array row to rows\n",
    "# I know, I know double for loops bad\n",
    "for i in range(5):\n",
    "    for i in range(12):\n",
    "        r = randomAnswer(1,90,3)\n",
    "        row.append(answersDict.get(r))\n",
    "        \n",
    "    z = randomAnswer(0,2,1)\n",
    "    row.append(targetValueDict.get(z))\n",
    "    row_temp = row.copy()\n",
    "    \n",
    "    row.clear()\n",
    "    rows.append(row_temp)\n",
    "    \n",
    "print(rows)"
   ]
  },
  {
   "cell_type": "code",
   "execution_count": 28,
   "id": "2e4d6172",
   "metadata": {},
   "outputs": [],
   "source": [
    "\n",
    "filePath = \"C:\\\\Users\\\\dayna\\\\Desktop\\\\Github\\\\NoStigma-HackSEA\\\\data\\\\questionaireData.txt\"\n",
    "\n",
    "with open(filePath, 'w', newline='') as csvfile:\n",
    "    csvWriter = csv.writer(csvfile)\n",
    "    \n",
    "    #write the fields\n",
    "    csvWriter.writerow(fields)\n",
    "    \n",
    "    csvWriter.writerows(rows)\n",
    "    "
   ]
  },
  {
   "cell_type": "code",
   "execution_count": null,
   "id": "5224e657",
   "metadata": {},
   "outputs": [],
   "source": []
  }
 ],
 "metadata": {
  "kernelspec": {
   "display_name": "Python 3 (ipykernel)",
   "language": "python",
   "name": "python3"
  },
  "language_info": {
   "codemirror_mode": {
    "name": "ipython",
    "version": 3
   },
   "file_extension": ".py",
   "mimetype": "text/x-python",
   "name": "python",
   "nbconvert_exporter": "python",
   "pygments_lexer": "ipython3",
   "version": "3.10.4"
  }
 },
 "nbformat": 4,
 "nbformat_minor": 5
}
