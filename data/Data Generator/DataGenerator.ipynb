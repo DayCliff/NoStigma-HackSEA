{
 "cells": [
  {
   "cell_type": "markdown",
   "id": "3a1fe935",
   "metadata": {},
   "source": [
    "# Data Generator\n",
    "\n",
    "Randomly generate questionaire results for the dataset\n",
    "\n",
    "Result answers: True/False/I'm not sure\n",
    "\n",
    "target values: Depressed, Anxious, Suicidal\n",
    "\n",
    "Dictionary of answers\n",
    "dictionary of target values\n"
   ]
  },
  {
   "cell_type": "code",
   "execution_count": 1,
   "id": "b394f9ce",
   "metadata": {},
   "outputs": [],
   "source": [
    "#imports\n",
    "import random\n",
    "import csv\n",
    "\n",
    "answersDict = {}\n",
    "targetValueDict = {}\n",
    "row = []"
   ]
  },
  {
   "cell_type": "code",
   "execution_count": 2,
   "id": "41b8851f",
   "metadata": {},
   "outputs": [],
   "source": [
    "# generate random integer based on sent values\n",
    "# a and b are range where a <= r <= b\n",
    "# c is the value modded by\n",
    "# returns random integer\n",
    "def randomAnswer(a,b,c) -> int:\n",
    "    r = random.randrange(a,b)\n",
    "    return r % c\n"
   ]
  },
  {
   "cell_type": "code",
   "execution_count": 3,
   "id": "be1687e8",
   "metadata": {},
   "outputs": [],
   "source": [
    "# add values to dictionaries \n",
    "answersDict[0] = \"true\"\n",
    "answersDict[1] = \"false\"\n",
    "\n",
    "targetValueDict[0] = \"depressed\"\n",
    "targetValueDict[1] = \"anxious\"\n",
    "targetValueDict[2] = \"suicidal\""
   ]
  },
  {
   "cell_type": "code",
   "execution_count": 5,
   "id": "24b76ed3",
   "metadata": {},
   "outputs": [],
   "source": [
    "# writes the rows to the CSV\n",
    "# fields to enter into csv\n",
    "fields = ['Feeling/seeming tense/nervous/unable to relax',\n",
    "'Worrying/seems to worry about things that might happen in the future',\n",
    "'Having a sense of dread, or fearing the worst',\n",
    "'Losing interest in daily activities',\n",
    "'Trouble concentrating on everyday things such as watching television',\n",
    "'Neglected appearance',\n",
    "'Have trouble concentrating in class',\n",
    "'Withdraw from friends or activities',\n",
    "'Talk about suicide or death',\n",
    "'Hinting that they might not be around anymore',\n",
    "'Talking about being a burden to others',\n",
    "'Acting anxious or agitated; behaving recklessly'\n",
    "         ]\n",
    "\n",
    "rows = []\n",
    "d_row = [\"false\", \"false\", \"false\", \"false\", \"true\", \"true\", \"true\", \"true\",\"false\",\"false\", \"false\",\"false\", \"depressed\"]\n",
    "a_row = [\"true\", \"true\", \"true\", \"true\", \"false\", \"false\", \"false\", \"false\", \"false\", \"false\", \"false\", \"false\", \"anxious\"]\n",
    "s_row = [\"false\", \"false\", \"false\", \"false\", \"false\", \"false\", \"false\", \"false\", \"true\", \"true\", \"true\", \"true\", \"suicidal\"]\n",
    "\n",
    "# add array row to rows\n",
    "# I know, I know double for loops bad\n",
    "for i in range(15000):\n",
    "    rows.append(d_row)\n",
    "    rows.append(d_row)\n",
    "    rows.append(d_row)\n",
    "    rows.append(a_row)\n",
    "    rows.append(a_row)\n",
    "    rows.append(a_row)\n",
    "    rows.append(s_row)\n",
    "    rows.append(s_row)\n",
    "    rows.append(s_row)\n",
    "    for i in range(12):\n",
    "        r = randomAnswer(1,90,2)\n",
    "        row.append(answersDict.get(r))\n",
    "        \n",
    "    z = randomAnswer(0,2,2)\n",
    "    row.append(targetValueDict.get(z))\n",
    "    row_temp = row.copy()\n",
    "    \n",
    "    row.clear()\n",
    "    rows.append(row_temp)\n",
    "    \n",
    "#print(rows)"
   ]
  },
  {
   "cell_type": "code",
   "execution_count": 6,
   "id": "b9540e4d",
   "metadata": {},
   "outputs": [],
   "source": [
    "\n",
    "filePath = \"C:\\\\Users\\\\dayna\\\\Desktop\\\\Github\\\\NoStigma-HackSEA\\\\data\\\\questionaireData.txt\"\n",
    "\n",
    "with open(filePath, 'w', newline='') as csvfile:\n",
    "    csvWriter = csv.writer(csvfile)\n",
    "    \n",
    "    #write the fields\n",
    "    csvWriter.writerow(fields)\n",
    "    \n",
    "    csvWriter.writerows(rows)\n",
    "    "
   ]
  },
  {
   "cell_type": "code",
   "execution_count": null,
   "id": "9f9e4e7b",
   "metadata": {},
   "outputs": [],
   "source": []
  }
 ],
 "metadata": {
  "kernelspec": {
   "display_name": "Python 3 (ipykernel)",
   "language": "python",
   "name": "python3"
  },
  "language_info": {
   "codemirror_mode": {
    "name": "ipython",
    "version": 3
   },
   "file_extension": ".py",
   "mimetype": "text/x-python",
   "name": "python",
   "nbconvert_exporter": "python",
   "pygments_lexer": "ipython3",
   "version": "3.10.4"
  }
 },
 "nbformat": 4,
 "nbformat_minor": 5
}
