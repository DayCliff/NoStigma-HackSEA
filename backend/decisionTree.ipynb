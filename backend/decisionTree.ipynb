{
 "cells": [
  {
   "cell_type": "code",
   "execution_count": 2,
   "id": "85a0baee",
   "metadata": {},
   "outputs": [],
   "source": [
    "import pickle \n",
    "import json\n",
    "\n",
    "# make results a dictioanry\n",
    "def dictResult(answers):\n",
    "    results = json.loads(answers)\n",
    "    model = pickle.load(open(os.path.join(fld, file), 'rb'))\n",
    "    \n",
    "    getResult(model, results)\n",
    "\n",
    "# walk model for result\n",
    "def getResult(model, results) -> str:\n",
    "    if not isinstance(model, dict):\n",
    "        return model\n",
    "    \n",
    "    value = list(model.keys())[0]\n",
    "    m = model.get(value)\n",
    "    \n",
    "    value_attribute = results.get(value)\n",
    "    \n",
    "    return getResult(m.get(value_attribute), results)\n",
    "\n",
    "\n",
    "\n",
    "    "
   ]
  },
  {
   "cell_type": "code",
   "execution_count": null,
   "id": "0c008f85",
   "metadata": {},
   "outputs": [],
   "source": []
  }
 ],
 "metadata": {
  "kernelspec": {
   "display_name": "Python 3 (ipykernel)",
   "language": "python",
   "name": "python3"
  },
  "language_info": {
   "codemirror_mode": {
    "name": "ipython",
    "version": 3
   },
   "file_extension": ".py",
   "mimetype": "text/x-python",
   "name": "python",
   "nbconvert_exporter": "python",
   "pygments_lexer": "ipython3",
   "version": "3.10.4"
  }
 },
 "nbformat": 4,
 "nbformat_minor": 5
}
